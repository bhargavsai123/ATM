{
  "nbformat": 4,
  "nbformat_minor": 0,
  "metadata": {
    "colab": {
      "name": "atm.ipynb",
      "provenance": [],
      "collapsed_sections": [],
      "authorship_tag": "ABX9TyOYdoKPSG7aLlMRwWVICRCT",
      "include_colab_link": true
    },
    "kernelspec": {
      "name": "python3",
      "display_name": "Python 3"
    },
    "language_info": {
      "name": "python"
    }
  },
  "cells": [
    {
      "cell_type": "markdown",
      "metadata": {
        "id": "view-in-github",
        "colab_type": "text"
      },
      "source": [
        "<a href=\"https://colab.research.google.com/github/bhargavsai123/ATM/blob/main/atm.ipynb\" target=\"_parent\"><img src=\"https://colab.research.google.com/assets/colab-badge.svg\" alt=\"Open In Colab\"/></a>"
      ]
    },
    {
      "cell_type": "code",
      "metadata": {
        "colab": {
          "base_uri": "https://localhost:8080/"
        },
        "id": "2ARccPn1ica0",
        "outputId": "240b3357-343a-4631-a172-d9514a84feb2"
      },
      "source": [
        "card = str(input(\"Enter your Card Number:\"))\n",
        "pin = int(input(\"Enter your PIN:\"))\n",
        "\n",
        "server = [[\"B1H9A0R4G2A0V0S6\",\"1904\",\"19042006\"],[\"1234567890123456\",\"1234\",\"123456\"],[\"Q1W2E3R4T5Y6U7I8\",\"1232\",\"654321\"]]\n",
        " \n",
        "class atm(object):\n",
        "  def __init__(self,cardNo, pin):\n",
        "    self.cardNo = cardNo\n",
        "    self.pin = pin\n",
        "    for i in range(len(server)): \n",
        "      def login(self):\n",
        "        if self.cardNo == server[i][0] and str(self.pin) == server[i][1]:\n",
        "          print(\"Login Sucessful\")\n",
        "          def home(self):\n",
        "            print(\"Enter '1' for Checking your Account Balance\")\n",
        "            print(\"Enter '2' for Cash Withdrawl\")\n",
        "            c = int(input(\"Enter : \"))\n",
        "            if(c == 1):\n",
        "              balance(self)\n",
        "            elif(c == 2):\n",
        "              withdrawl(self)\n",
        "            else:\n",
        "              print(\"Sorry! Enter a number from the given options\")\n",
        "          def balance(self):\n",
        "            print(\"Balance :\",server[i][2])\n",
        "            home(self)\n",
        "          def withdrawl(self):\n",
        "            w = int(input(\"Enter the Withdrawl Amount :\"))\n",
        "            server[i][2] = int(server[i][2]) - w \n",
        "            print(\"Balance :\",server[i][2])\n",
        "            home(self)\n",
        "          home(self)\n",
        "      login(self)\n",
        "a = atm(card,pin)"
      ],
      "execution_count": null,
      "outputs": [
        {
          "output_type": "stream",
          "text": [
            "Enter your Card Number:1234567890123456\n",
            "Enter your PIN:1234\n",
            "Login Sucessful\n",
            "Enter '1' for Checking your Account Balance\n",
            "Enter '2' for Cash Withdrawl\n",
            "Enter : 1\n",
            "Balance : 123456\n",
            "Enter '1' for Checking your Account Balance\n",
            "Enter '2' for Cash Withdrawl\n",
            "Enter : 2\n",
            "Enter the Withdrawl Amount :456\n",
            "Balance : 123000\n",
            "Enter '1' for Checking your Account Balance\n",
            "Enter '2' for Cash Withdrawl\n"
          ],
          "name": "stdout"
        }
      ]
    }
  ]
}